{
  "nbformat": 4,
  "nbformat_minor": 0,
  "metadata": {
    "colab": {
      "provenance": []
    },
    "kernelspec": {
      "name": "python3",
      "display_name": "Python 3"
    },
    "language_info": {
      "name": "python"
    }
  },
  "cells": [
    {
      "cell_type": "markdown",
      "source": [
        "Question 1"
      ],
      "metadata": {
        "id": "ArT5jyRhUbQs"
      }
    },
    {
      "cell_type": "code",
      "execution_count": 1,
      "metadata": {
        "colab": {
          "base_uri": "https://localhost:8080/"
        },
        "id": "wEH56Qo0UD_p",
        "outputId": "43dbf085-06cb-4f72-edc1-3d184cde2d43"
      },
      "outputs": [
        {
          "output_type": "stream",
          "name": "stdout",
          "text": [
            "First Name: Vennela\n",
            "Last Name: Madamshetty\n",
            "Your Full Name is Vennela Madamshetty\n",
            "VneaMdmhty\n"
          ]
        }
      ],
      "source": [
        "first_name = input(\"First Name: \")\n",
        "last_name = input(\"Last Name: \")\n",
        "\n",
        "def fullname(first_name, last_name):\n",
        "  return first_name+\" \"+last_name\n",
        "\n",
        "def string_alternative(string):\n",
        "  return string[::2]\n",
        "\n",
        "full_name = fullname(first_name,last_name)\n",
        "print(\"Your Full Name is\",full_name)\n",
        "print(string_alternative(full_name))"
      ]
    },
    {
      "cell_type": "markdown",
      "source": [
        "Question 2"
      ],
      "metadata": {
        "id": "zQlpO01-W-jR"
      }
    },
    {
      "cell_type": "code",
      "source": [
        "from google.colab import drive\n",
        "drive.mount('/drive')\n",
        "with open('/drive/My Drive/Colab Notebooks/input.txt') as f:\n",
        "  txt = f.read()\n",
        "words = txt.split()\n",
        "unique = set(words)\n",
        "f1 = open('output.txt','w')\n",
        "f1.write(txt)\n",
        "f1.write('\\n\\nWord_Count:\\n\\n')\n",
        "for word in unique:\n",
        "  f1.write(word+':'+str(words.count(word))+'\\n')\n",
        "f1.close()"
      ],
      "metadata": {
        "colab": {
          "base_uri": "https://localhost:8080/"
        },
        "id": "CzPmklwhXOdS",
        "outputId": "8a524988-041b-4385-c95b-2a7ec1e09eee"
      },
      "execution_count": 2,
      "outputs": [
        {
          "output_type": "stream",
          "name": "stdout",
          "text": [
            "Drive already mounted at /drive; to attempt to forcibly remount, call drive.mount(\"/drive\", force_remount=True).\n"
          ]
        }
      ]
    },
    {
      "cell_type": "code",
      "source": [
        "with open('output.txt') as f1:\n",
        "  print(f1.read())"
      ],
      "metadata": {
        "colab": {
          "base_uri": "https://localhost:8080/"
        },
        "id": "oc8kHOvhfBzp",
        "outputId": "ab5d7e0e-f409-4ddf-ad47-b6f2df5980c0"
      },
      "execution_count": 3,
      "outputs": [
        {
          "output_type": "stream",
          "name": "stdout",
          "text": [
            "Python Course\n",
            "Deep Learning Course \n",
            "\n",
            "Word_Count:\n",
            "\n",
            "Learning:1\n",
            "Python:1\n",
            "Deep:1\n",
            "Course:2\n",
            "\n"
          ]
        }
      ]
    },
    {
      "cell_type": "markdown",
      "source": [
        "Question 3"
      ],
      "metadata": {
        "id": "f7YkQR-GgzgJ"
      }
    },
    {
      "cell_type": "code",
      "source": [
        "#Nested Interactive Loop\n",
        "h_inches = list(map(int,input().split()))\n",
        "h_cms = []\n",
        "for height in h_inches:\n",
        "  h_cms.append(round(height*2.54,2))\n",
        "print(h_cms)"
      ],
      "metadata": {
        "colab": {
          "base_uri": "https://localhost:8080/"
        },
        "id": "s3N-x131hRGE",
        "outputId": "27018464-382f-4e99-a39d-a090d6a33db3"
      },
      "execution_count": 1,
      "outputs": [
        {
          "output_type": "stream",
          "name": "stdout",
          "text": [
            "55 63 74 98 42\n",
            "[139.7, 160.02, 187.96, 248.92, 106.68]\n"
          ]
        }
      ]
    },
    {
      "cell_type": "code",
      "source": [
        "#List Comprehension\n",
        "centimetres = [round(height*2.54,2) for height in h_inches]\n",
        "print(centimetres)"
      ],
      "metadata": {
        "colab": {
          "base_uri": "https://localhost:8080/"
        },
        "id": "SCMjtQTdi4Dw",
        "outputId": "da243d37-4f86-4acd-ce79-9ca8bab8e5b0"
      },
      "execution_count": 2,
      "outputs": [
        {
          "output_type": "stream",
          "name": "stdout",
          "text": [
            "[139.7, 160.02, 187.96, 248.92, 106.68]\n"
          ]
        }
      ]
    }
  ]
}